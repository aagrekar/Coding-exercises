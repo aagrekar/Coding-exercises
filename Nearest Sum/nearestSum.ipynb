def closest_substring(intList, n):
    nearest = dict()
    
    for i in range(len(intList)):
        summ = 0
        j = i
        for j in range(i,len(intList)):
            summ = summ + intList[j]
            nearest.update({(i,j):abs(summ-n)})
    nearest = sorted(nearest.items(), key=lambda x:(x[1],x[0][0]))
    return nearest[0][0]
    
closest_substring([3,4,5,6,7],14)
